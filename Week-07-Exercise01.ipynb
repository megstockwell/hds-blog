{
  "cells": [
    {
      "cell_type": "markdown",
      "metadata": {
        "id": "view-in-github",
        "colab_type": "text"
      },
      "source": [
        "<a href=\"https://colab.research.google.com/github/megstockwell/hds-blog/blob/main/Week-07-Exercise01.ipynb\" target=\"_parent\"><img src=\"https://colab.research.google.com/assets/colab-badge.svg\" alt=\"Open In Colab\"/></a>"
      ]
    },
    {
      "cell_type": "markdown",
      "metadata": {
        "id": "6nhnOcx-H4r7"
      },
      "source": [
        "![alt text](https://drive.google.com/uc?export=view&id=1DXUVHxd4t15mfuqMgMCLnsP4jWVI5EWz)\n",
        "\n",
        "---\n",
        "\n",
        "<br>\n",
        "© 2022 Copyright The University of New South Wales - CRICOS 00098G\n",
        "\n",
        "**Author**: Oscar Perez-Concha: o.perezconcha@unsw.edu.au\n",
        "\n",
        "**Contributors/Co-authors**: Marta Fredes-Torres and Zhisheng (Sandy) Sa."
      ]
    },
    {
      "cell_type": "markdown",
      "source": [
        "# Week 7: Artificial Neural Networks / Deep Learning\n",
        "# Exercise 01:\n",
        "\n",
        "\n",
        "# 1. Introduction\n",
        "\n",
        "In this exercise, we will build our first dense neural network using Keras. Exciting!\n",
        "\n",
        "\n",
        "## 1.1. Aims of the Exercise:\n",
        "\n",
        "1. This is an introduction to Artificial Neural Networks / Deep Learning.\n",
        "2. We will use Keras, a high-level API built on top of Tensorflow.\n",
        "It aligns with all of the learning outcomes of our course:\n",
        "\n",
        "1.\tDistinguish a range of task specific machine learning techniques appropriate for Health Data Science.\n",
        "2.\tDesign machine learning tasks for Health Data Science scenarios.\n",
        "\n",
        "\n",
        "## 1.2. Jupyter Notebook Intructions\n",
        "1. Read the content of each cell.\n",
        "2. Where necessary, follow the instructions that are written in each cell.\n",
        "3. Run/Execute all the cells that contain Python code sequentially (one at a time), using the \"Run\" button.\n",
        "4. For those cells in which you are asked to write some code, please write the Python code first and then execute/run the cell.\n",
        "\n",
        "## 1.3. Tips\n",
        "1. Run all the cells in sequence (one at a time), using the \"Run\" button.\n",
        "2. To edit this notebook, just double-click in each cell. Choose between \"Code\" cell or text \"Markdown\" cell in the combo-box above.\n",
        "3. If you want to save your notebook, please go File->Save a copy on Drive/GitHub.\n",
        "4. To clean the content of all cells and re-start Notebook, please go to Edit->Clear all outputs then Runtime->Restart runtime\n",
        "\n",
        "Follow the instructions given and if you have any questions, please use the **Comments section** in **Open Learning**."
      ],
      "metadata": {
        "id": "p3XWRVcUWeRw"
      }
    },
    {
      "cell_type": "markdown",
      "metadata": {
        "id": "pgVK8dQpH4r_"
      },
      "source": [
        "# 2. Docstring:\n",
        "\n",
        "Create a docstring with the variables and constants that you will use in this exercise (data dictionary) and the purpose of your program. It is expected that you choose informative variable names and document your program (both docstrings and comments)."
      ]
    },
    {
      "cell_type": "markdown",
      "metadata": {
        "id": "zS2pdi4pH4sA"
      },
      "source": [
        "<b> Write the answer here:</b>\n",
        "\n",
        "#####################################################################################################################\n",
        "\n",
        "(double-click here)\n",
        "\n",
        "\n",
        "#####################################################################################################################"
      ]
    },
    {
      "cell_type": "markdown",
      "metadata": {
        "id": "Vk6AMHscH4sB"
      },
      "source": [
        "# 3. Reading and Manipulating Malaria Cell Images Data set\n",
        "\n",
        "<font color=green><b> Aim/Goal</b>: In this week, we will detect malaria cells that are parasitized with ANN (Artificial Neural Networks) algorithms. </font> We will use two sets of data that contain images of infected and uninfected cells. More information see[Tensorflow Malaria](https://www.tensorflow.org/datasets/catalog/malaria) and [NLM - Malaria Data](https://lhncbc.nlm.nih.gov/LHC-research/LHC-projects/image-processing/malaria-datasheet.html)"
      ]
    },
    {
      "cell_type": "code",
      "execution_count": 1,
      "metadata": {
        "id": "TPqCNwUGH4sB",
        "colab": {
          "base_uri": "https://localhost:8080/"
        },
        "outputId": "05b34696-b73b-4e96-eb35-7d6a74ca298b"
      },
      "outputs": [
        {
          "output_type": "stream",
          "name": "stdout",
          "text": [
            "Installing:  {'grid', 'lime', 'shap'}\n"
          ]
        }
      ],
      "source": [
        "# check required libraries are installed if not calling system to install\n",
        "import sys\n",
        "import subprocess\n",
        "import pkg_resources\n",
        "\n",
        "required = {'numpy', 'pandas', 'plotnine', 'matplotlib', 'seaborn',\n",
        "            'grid', 'lime', 'shap', 'scikit-learn', 'tensorflow'}\n",
        "installed = {pkg.key for pkg in pkg_resources.working_set}\n",
        "missing = required - installed\n",
        "\n",
        "if missing:\n",
        "    print('Installing: ', missing)\n",
        "    python = sys.executable\n",
        "    subprocess.check_call([python, '-m', 'pip', 'install', *missing], stdout=subprocess.DEVNULL)\n",
        "# delete unwanted variables\n",
        "del required\n",
        "del installed\n",
        "del missing"
      ]
    },
    {
      "cell_type": "code",
      "execution_count": 2,
      "metadata": {
        "id": "Ogcb9t1EH4sD",
        "colab": {
          "base_uri": "https://localhost:8080/"
        },
        "outputId": "3c54243e-c170-43d1-8c60-051cc852ba34"
      },
      "outputs": [
        {
          "output_type": "stream",
          "name": "stdout",
          "text": [
            "3.10.12 (main, Jun  7 2023, 12:45:35) [GCC 9.4.0]\n"
          ]
        }
      ],
      "source": [
        "import sys\n",
        "print(sys.version)\n",
        "\n",
        "import numpy as np\n",
        "import pandas as pd\n",
        "from IPython.display import display\n",
        "\n",
        "import matplotlib.pyplot as plt\n",
        "import seaborn as sns\n",
        "import os\n",
        "from PIL import Image\n",
        "import random\n",
        "import warnings; warnings.simplefilter('ignore')"
      ]
    },
    {
      "cell_type": "code",
      "execution_count": 3,
      "metadata": {
        "id": "wulnY15jH4sD",
        "colab": {
          "base_uri": "https://localhost:8080/"
        },
        "outputId": "2bfa0bf1-030b-4e9a-9bc0-4ec6b8898dd0"
      },
      "outputs": [
        {
          "output_type": "stream",
          "name": "stdout",
          "text": [
            "Colab only includes TensorFlow 2.x; %tensorflow_version has no effect.\n"
          ]
        }
      ],
      "source": [
        "try:\n",
        "    # %tensorflow_version only exists in Colab.\n",
        "    %tensorflow_version 2.x\n",
        "except Exception:\n",
        "    pass\n",
        "\n",
        "# TensorFlow ≥2.0 is required\n",
        "import tensorflow as tf\n",
        "assert tf.__version__ >= \"2.0\""
      ]
    },
    {
      "cell_type": "code",
      "execution_count": 4,
      "metadata": {
        "id": "p4jKCNk1H4sE",
        "colab": {
          "base_uri": "https://localhost:8080/"
        },
        "outputId": "2275ce0c-0067-4d56-ba4c-1658b2862e70"
      },
      "outputs": [
        {
          "output_type": "stream",
          "name": "stdout",
          "text": [
            "Mounted at /content/drive\n"
          ]
        }
      ],
      "source": [
        "# Mount Google Drive\n",
        "# We do not need to run this cell if you are not running this notebook in Google Colab\n",
        "\n",
        "if 'google.colab' in str(get_ipython()):\n",
        "    from google.colab import drive # import drive from Gogle colab\n",
        "    root = '/content/drive'     # default location for the drive\n",
        "    # print(root)                 # print content of ROOT (Optional)\n",
        "    drive.mount(root)\n",
        "else:\n",
        "    print('Not running on CoLab')"
      ]
    },
    {
      "cell_type": "markdown",
      "metadata": {
        "id": "EO04HmE3H4sF"
      },
      "source": [
        "If you are running this notebook in Google Colab, you must define your project paths. In this case, define your `project_path`. Otherwise, the model output will be lost after you close the session."
      ]
    },
    {
      "cell_type": "code",
      "execution_count": 11,
      "metadata": {
        "id": "VLgjMv5_H4sH"
      },
      "outputs": [],
      "source": [
        "from pathlib import Path\n",
        "if 'google.colab' in str(get_ipython()):\n",
        "    # EDIT THE PROJECT PATH IF DIFFERENT WITH YOUR ONE\n",
        "    # T\n",
        "    project_path = Path(root) / 'MyDrive' / 'Colab Notebooks' / 'HDAT9500' / 'Week7'\n",
        "\n",
        "    # OPTIONAL - set working directory according to your google drive project path\n",
        "    # import os\n",
        "    # Change directory to the location defined in project_path\n",
        "    # os.chdir(project_path)\n",
        "else:\n",
        "    project_path = Path()"
      ]
    },
    {
      "cell_type": "markdown",
      "metadata": {
        "id": "XNqS2ujKH4sH"
      },
      "source": [
        "## 3.1 Dataset\n",
        "The original Malaria cell image dataset can be downloaded from [Kaggle](https://www.kaggle.com/datasets/iarunava/cell-images-for-detecting-malaria?resource=download)\n",
        "\n",
        "The image dataset need to processed into array before feeding into ANN. Data preparation code are stored in a separate notebook called **Week-05-data-preparation.ipynnb**\n",
        "\n",
        "Now let's have a look what these images look like first:\n",
        "\n",
        "**The parasitized images**\n",
        "\n",
        "![alt text](https://drive.google.com/uc?export=view&id=1a2Qopc2ejiW3RkpLOCIge4b42tYIEaqq)\n",
        "\n",
        "![alt text](https://drive.google.com/uc?export=view&id=1cEJxQmXAcgc0f8Mo8hSsSO9s5m183Qil)\n",
        "\n",
        "![alt text](https://drive.google.com/uc?export=view&id=1BM-l4FO1ClvtjqA9D397ZDwjkrit8bYn)\n",
        "\n",
        "![alt text](https://drive.google.com/uc?export=view&id=1CZJitEjxDcbtKzOSXvv1LiETwxQloLEi)\n",
        "\n",
        "**The uninfected images**\n",
        "\n",
        "![alt text](https://drive.google.com/uc?export=view&id=1ak0EI4p5w387kxmeLuUuIr5MTL6kY5se)\n",
        "\n",
        "![alt text](https://drive.google.com/uc?export=view&id=1HB8wJyfrFTSTijmck4nsS90iMUQhDpaI)\n",
        "\n",
        "![alt text](https://drive.google.com/uc?export=view&id=11Xvt0uCFlT3r7s7Bj6d8a99z29ZkJgQJ)\n",
        "\n",
        "![alt text](https://drive.google.com/uc?export=view&id=1a0UdWFtY7FxUrlXgVGTqoI-qIdEQZRsI)\n"
      ]
    },
    {
      "cell_type": "markdown",
      "metadata": {
        "id": "lGn71_3xH4sI"
      },
      "source": [
        "**Now let's load the processed data**\n",
        "\n",
        "The images were resized to (64x64) and transformed into a 1D vector then saved as a data list called 'data'. The label of the images was saved in a separate data list called 'labels' in a compressed data file.\n"
      ]
    },
    {
      "cell_type": "code",
      "execution_count": 12,
      "metadata": {
        "id": "n4oPDtHZH4sI"
      },
      "outputs": [],
      "source": [
        "data_path = Path(project_path) /  'malaria_img.npz'\n",
        "with np.load(data_path) as img:\n",
        "    data = img['data']\n",
        "    labels = img['labels']"
      ]
    },
    {
      "cell_type": "code",
      "execution_count": 13,
      "metadata": {
        "id": "OvWN_Es_H4sI",
        "colab": {
          "base_uri": "https://localhost:8080/"
        },
        "outputId": "b23e1deb-d4a2-4615-cb91-f4cbff0d45e5"
      },
      "outputs": [
        {
          "output_type": "stream",
          "name": "stdout",
          "text": [
            "Cells : (27558, 12288) | labels : (27558,)\n"
          ]
        }
      ],
      "source": [
        "# Printing the shape of the data list and labels\n",
        "print('Cells : {} | labels : {}'.format(data.shape , labels.shape))"
      ]
    },
    {
      "cell_type": "markdown",
      "metadata": {
        "id": "2yxl4xLkH4sJ"
      },
      "source": [
        "## 3.3 Splitting the dataset into the Training set and Test set"
      ]
    },
    {
      "cell_type": "markdown",
      "metadata": {
        "id": "MWP27ph-H4sJ"
      },
      "source": [
        "It is <font color=purple>**very important to scale**</font> our features when we use ANNs. In this particular example, all the features are already in the same scale because we are dealing with pixels whose values are between [0,1].\n",
        "\n",
        "Therefore, we are not going to scale for that reason.  \n",
        "\n",
        "But when dealing with data that are not scaled, bear in mind that we should use a pipeline as we did in the past weeks in order to scale our features before being fed to the ANN."
      ]
    },
    {
      "cell_type": "code",
      "execution_count": 14,
      "metadata": {
        "id": "BNnTckZoH4sJ",
        "colab": {
          "base_uri": "https://localhost:8080/"
        },
        "outputId": "4287b5c2-6829-438f-e431-e374451f2765"
      },
      "outputs": [
        {
          "output_type": "stream",
          "name": "stdout",
          "text": [
            "No data smaller than 0: []\n",
            "No data higher than 1: []\n",
            "print data higher than 0: [0. 0. 0. ... 0. 0. 0.]\n",
            "print data higher than 0.1: [0.10058977 0.8095167  0.47208562 ... 0.19573687 0.20504151 0.20645538]\n",
            "print data higher than 0.5: [0.8095167 0.5582415 0.8116766 ... 0.7546219 0.7907126 0.7961967]\n",
            "print data higher than 0.5: [0.90121305 0.90391296 0.90254384 ... 0.90535814 0.9083625  0.90008044]\n"
          ]
        }
      ],
      "source": [
        "# Sanity check that data values are between [0,1]\n",
        "print('No data smaller than 0:', data[data<0])\n",
        "print('No data higher than 1:', data[data>1])\n",
        "\n",
        "print('print data higher than 0:', data[data>=0])\n",
        "print('print data higher than 0.1:', data[data>=0.1])\n",
        "print('print data higher than 0.5:', data[data>=0.5])\n",
        "print('print data higher than 0.5:', data[data>=0.9])"
      ]
    },
    {
      "cell_type": "code",
      "execution_count": 16,
      "metadata": {
        "id": "IVWnGTWAH4sK"
      },
      "outputs": [],
      "source": [
        "# Splitting the dataset into the Training set and Test set\n",
        "from sklearn.model_selection import train_test_split\n",
        "X_train, X_test, y_train, y_test = train_test_split(data, labels, test_size = 0.2, random_state = 0, stratify = labels)"
      ]
    },
    {
      "cell_type": "code",
      "execution_count": 17,
      "metadata": {
        "id": "Hl8wXbmkH4sK",
        "colab": {
          "base_uri": "https://localhost:8080/"
        },
        "outputId": "c3dfcd1a-fea2-420f-80eb-78d66f9a8017"
      },
      "outputs": [
        {
          "output_type": "stream",
          "name": "stdout",
          "text": [
            "SHAPE OF TRAINING IMAGE DATA : (22046, 12288)\n",
            "SHAPE OF TESTING IMAGE DATA : (5512, 12288)\n",
            "SHAPE OF TRAINING LABELS : (22046,)\n",
            "SHAPE OF TESTING LABELS : (5512,)\n"
          ]
        }
      ],
      "source": [
        "# Sanity Check\n",
        "print(f'SHAPE OF TRAINING IMAGE DATA : {X_train.shape}')\n",
        "print(f'SHAPE OF TESTING IMAGE DATA : {X_test.shape}')\n",
        "print(f'SHAPE OF TRAINING LABELS : {y_train.shape}')\n",
        "print(f'SHAPE OF TESTING LABELS : {y_test.shape}')"
      ]
    },
    {
      "cell_type": "markdown",
      "metadata": {
        "id": "DNa7F-3QH4sM"
      },
      "source": [
        "# 4. Our first ANN using Keras\n"
      ]
    },
    {
      "cell_type": "code",
      "execution_count": 18,
      "metadata": {
        "id": "g4Fy1uJoH4sM"
      },
      "outputs": [],
      "source": [
        "from tensorflow import keras\n",
        "from keras.models import Sequential\n",
        "from keras.layers import Dense, Dropout, Activation\n",
        "from keras.layers import Flatten\n",
        "from keras import backend as K\n",
        "from keras import optimizers"
      ]
    },
    {
      "cell_type": "markdown",
      "metadata": {
        "id": "nFgIKLxvH4sN"
      },
      "source": [
        "### <font color='brown'> Question 1: Go to the section titled <b>Creating the model using the Sequential API</b> in the book:</font>\n",
        "\n",
        "<font color='brown'>a. Write code to initialise ANN. </font>\n",
        "\n",
        "<font color='brown'>b. Create a first hidden layer with 16 nodes and a relu activation function. Use the function `add` and  the argument `input_dim` since the data have been flatten out already (see the data prepartion notebook).</font>\n",
        "\n",
        "<font color='brown'>c. Create a second hidden layer with 16 nodes and a relu activation function. Use the function `add`.</font>\n",
        "\n",
        "<font color='brown'>d. Add output layer: Using the functions \"add\" and \"dense\". What activation function would you use and why? </font>"
      ]
    },
    {
      "cell_type": "markdown",
      "source": [
        "<font color='green'>Help: </font>\n",
        "\n",
        "1. [Additional information about how to use the function `add` by using the argument `input_dim`](https://keras.io/getting-started/sequential-model-guide/)\n",
        "2. [Function `dense`](https://keras.io/layers/core/#dense)\n",
        "3. [Activation functions other than relu](https://keras.io/api/layers/activations/)\n",
        "4. [Read here how to use the function `add` by using the argument `input_dim`](https://keras.io/getting-started/sequential-model-guide/)\n",
        "5.[Merging layers](https://keras.io/layers/merge/#add_1)"
      ],
      "metadata": {
        "id": "cpmNR5s4xWOw"
      }
    },
    {
      "cell_type": "code",
      "source": [
        "# Write Python Code here:\n",
        "\n",
        "# Initialise ANN\n",
        "ann1 = keras.Sequential()\n",
        "\n",
        "# Create first hidden layer\n",
        "ann1.add(keras.layers.Dense(16, # number of nodes\n",
        "                            kernel_initializer='uniform', # picks random initial weights from a uniform distribution\n",
        "                            activation=\"relu\", # activation function\n",
        "                            input_dim=X_train.shape[1])) # create input layer\n",
        "\n",
        "# Create second hidden layer\n",
        "ann1.add(keras.layers.Dense(16, # number of nodes\n",
        "                            kernel_initializer='uniform', # picks random initial weights from a uniform distribution\n",
        "                            activation=\"relu\")) # activation function\n",
        "\n",
        "# Add output layer\n",
        "ann1.add(keras.layers.Dense(1,\n",
        "                            kernel_initializer='uniform', # picks random initial weights from a uniform distribution\n",
        "                            activation='sigmoid')) # binary classification - one probability value\n",
        "\n",
        "# Show model summary\n",
        "ann1.summary()\n"
      ],
      "metadata": {
        "id": "Rbjd76Lj0Sqi",
        "colab": {
          "base_uri": "https://localhost:8080/"
        },
        "outputId": "42aa975e-0bbd-449b-d779-00433f75b678"
      },
      "execution_count": 29,
      "outputs": [
        {
          "output_type": "stream",
          "name": "stdout",
          "text": [
            "Model: \"sequential_8\"\n",
            "_________________________________________________________________\n",
            " Layer (type)                Output Shape              Param #   \n",
            "=================================================================\n",
            " dense_12 (Dense)            (None, 16)                196624    \n",
            "                                                                 \n",
            " dense_13 (Dense)            (None, 16)                272       \n",
            "                                                                 \n",
            " dense_14 (Dense)            (None, 1)                 17        \n",
            "                                                                 \n",
            "=================================================================\n",
            "Total params: 196,913\n",
            "Trainable params: 196,913\n",
            "Non-trainable params: 0\n",
            "_________________________________________________________________\n"
          ]
        }
      ]
    },
    {
      "cell_type": "markdown",
      "metadata": {
        "id": "P0pEVTfYH4sS"
      },
      "source": [
        "### <font color='brown'> Question 2: Compile our model.  Use gradient descent (\"adam\", for example) for the optimizer, \"binary_crossentropy\" as the loss function, and accuracy as our metric.  </font>\n",
        "\n",
        "a. [Loss functions in Keras](https://keras.io/api/losses/)\n",
        "\n",
        "b. [Metrics in Keras](https://keras.io/api/metrics/)"
      ]
    },
    {
      "cell_type": "code",
      "execution_count": 34,
      "metadata": {
        "id": "fFP7jHpzH4sT"
      },
      "outputs": [],
      "source": [
        "# Write Python Code here:\n",
        "# Compiling the ANN\n",
        "ann1.compile(optimizer='adam',loss='binary_crossentropy',metrics=['acc'])\n",
        "\n"
      ]
    },
    {
      "cell_type": "markdown",
      "metadata": {
        "id": "NhmXfrwJH4sU"
      },
      "source": [
        "### <font color='brown'> Question 3: Fitting the ANN to the Training set. Set the batch_size=100, epochs=150. These hyper-parameters have to be tuned. These numbers have been optimised already. How much accuracy does the model obtain in the training test?</font>\n",
        "<p>\n",
        "<font color='green'>Note: batch_size, epochs can be tuned using GridSearchCV or trial and error. We will tune these parameters in Exercise 2.\n",
        "</font>"
      ]
    },
    {
      "cell_type": "code",
      "execution_count": 35,
      "metadata": {
        "id": "l_7YnRb2H4sU",
        "scrolled": true,
        "colab": {
          "base_uri": "https://localhost:8080/"
        },
        "outputId": "40fe2c60-12c8-420e-a0fe-99673c5b76f1"
      },
      "outputs": [
        {
          "output_type": "stream",
          "name": "stdout",
          "text": [
            "Epoch 1/150\n",
            "221/221 [==============================] - 4s 13ms/step - loss: 0.6663 - acc: 0.5850\n",
            "Epoch 2/150\n",
            "221/221 [==============================] - 3s 14ms/step - loss: 0.6237 - acc: 0.6464\n",
            "Epoch 3/150\n",
            "221/221 [==============================] - 3s 14ms/step - loss: 0.6059 - acc: 0.6709\n",
            "Epoch 4/150\n",
            "221/221 [==============================] - 6s 29ms/step - loss: 0.5950 - acc: 0.6811\n",
            "Epoch 5/150\n",
            "221/221 [==============================] - 3s 12ms/step - loss: 0.5905 - acc: 0.6857\n",
            "Epoch 6/150\n",
            "221/221 [==============================] - 3s 13ms/step - loss: 0.5850 - acc: 0.6906\n",
            "Epoch 7/150\n",
            "221/221 [==============================] - 3s 14ms/step - loss: 0.5830 - acc: 0.6936\n",
            "Epoch 8/150\n",
            "221/221 [==============================] - 4s 17ms/step - loss: 0.5750 - acc: 0.6967\n",
            "Epoch 9/150\n",
            "221/221 [==============================] - 3s 14ms/step - loss: 0.5719 - acc: 0.7037\n",
            "Epoch 10/150\n",
            "221/221 [==============================] - 3s 13ms/step - loss: 0.5657 - acc: 0.7040\n",
            "Epoch 11/150\n",
            "221/221 [==============================] - 3s 13ms/step - loss: 0.5608 - acc: 0.7073\n",
            "Epoch 12/150\n",
            "221/221 [==============================] - 3s 13ms/step - loss: 0.5637 - acc: 0.7073\n",
            "Epoch 13/150\n",
            "221/221 [==============================] - 4s 19ms/step - loss: 0.5563 - acc: 0.7137\n",
            "Epoch 14/150\n",
            "221/221 [==============================] - 3s 15ms/step - loss: 0.5498 - acc: 0.7170\n",
            "Epoch 15/150\n",
            "221/221 [==============================] - 3s 12ms/step - loss: 0.5511 - acc: 0.7167\n",
            "Epoch 16/150\n",
            "221/221 [==============================] - 3s 14ms/step - loss: 0.5530 - acc: 0.7125\n",
            "Epoch 17/150\n",
            "221/221 [==============================] - 4s 17ms/step - loss: 0.5458 - acc: 0.7193\n",
            "Epoch 18/150\n",
            "221/221 [==============================] - 4s 19ms/step - loss: 0.5393 - acc: 0.7255\n",
            "Epoch 19/150\n",
            "221/221 [==============================] - 3s 12ms/step - loss: 0.5436 - acc: 0.7239\n",
            "Epoch 20/150\n",
            "221/221 [==============================] - 3s 12ms/step - loss: 0.5443 - acc: 0.7229\n",
            "Epoch 21/150\n",
            "221/221 [==============================] - 3s 13ms/step - loss: 0.5383 - acc: 0.7251\n",
            "Epoch 22/150\n",
            "221/221 [==============================] - 3s 16ms/step - loss: 0.5321 - acc: 0.7312\n",
            "Epoch 23/150\n",
            "221/221 [==============================] - 4s 18ms/step - loss: 0.5315 - acc: 0.7336\n",
            "Epoch 24/150\n",
            "221/221 [==============================] - 3s 13ms/step - loss: 0.5315 - acc: 0.7300\n",
            "Epoch 25/150\n",
            "221/221 [==============================] - 3s 12ms/step - loss: 0.5268 - acc: 0.7331\n",
            "Epoch 26/150\n",
            "221/221 [==============================] - 3s 13ms/step - loss: 0.5273 - acc: 0.7328\n",
            "Epoch 27/150\n",
            "221/221 [==============================] - 3s 15ms/step - loss: 0.5302 - acc: 0.7294\n",
            "Epoch 28/150\n",
            "221/221 [==============================] - 4s 19ms/step - loss: 0.5271 - acc: 0.7325\n",
            "Epoch 29/150\n",
            "221/221 [==============================] - 3s 13ms/step - loss: 0.5236 - acc: 0.7372\n",
            "Epoch 30/150\n",
            "221/221 [==============================] - 3s 15ms/step - loss: 0.5205 - acc: 0.7369\n",
            "Epoch 31/150\n",
            "221/221 [==============================] - 3s 11ms/step - loss: 0.5208 - acc: 0.7382\n",
            "Epoch 32/150\n",
            "221/221 [==============================] - 4s 18ms/step - loss: 0.5207 - acc: 0.7366\n",
            "Epoch 33/150\n",
            "221/221 [==============================] - 3s 15ms/step - loss: 0.5134 - acc: 0.7438\n",
            "Epoch 34/150\n",
            "221/221 [==============================] - 3s 14ms/step - loss: 0.5193 - acc: 0.7371\n",
            "Epoch 35/150\n",
            "221/221 [==============================] - 3s 11ms/step - loss: 0.5245 - acc: 0.7327\n",
            "Epoch 36/150\n",
            "221/221 [==============================] - 3s 12ms/step - loss: 0.5093 - acc: 0.7461\n",
            "Epoch 37/150\n",
            "221/221 [==============================] - 4s 18ms/step - loss: 0.5096 - acc: 0.7449\n",
            "Epoch 38/150\n",
            "221/221 [==============================] - 3s 13ms/step - loss: 0.5153 - acc: 0.7395\n",
            "Epoch 39/150\n",
            "221/221 [==============================] - 3s 13ms/step - loss: 0.5067 - acc: 0.7436\n",
            "Epoch 40/150\n",
            "221/221 [==============================] - 3s 13ms/step - loss: 0.5052 - acc: 0.7469\n",
            "Epoch 41/150\n",
            "221/221 [==============================] - 3s 13ms/step - loss: 0.5022 - acc: 0.7488\n",
            "Epoch 42/150\n",
            "221/221 [==============================] - 4s 19ms/step - loss: 0.4966 - acc: 0.7530\n",
            "Epoch 43/150\n",
            "221/221 [==============================] - 3s 14ms/step - loss: 0.5049 - acc: 0.7492\n",
            "Epoch 44/150\n",
            "221/221 [==============================] - 3s 12ms/step - loss: 0.5013 - acc: 0.7498\n",
            "Epoch 45/150\n",
            "221/221 [==============================] - 3s 13ms/step - loss: 0.4957 - acc: 0.7527\n",
            "Epoch 46/150\n",
            "221/221 [==============================] - 3s 16ms/step - loss: 0.4928 - acc: 0.7545\n",
            "Epoch 47/150\n",
            "221/221 [==============================] - 4s 18ms/step - loss: 0.4946 - acc: 0.7538\n",
            "Epoch 48/150\n",
            "221/221 [==============================] - 3s 13ms/step - loss: 0.4876 - acc: 0.7561\n",
            "Epoch 49/150\n",
            "221/221 [==============================] - 3s 13ms/step - loss: 0.4916 - acc: 0.7548\n",
            "Epoch 50/150\n",
            "221/221 [==============================] - 2s 11ms/step - loss: 0.4909 - acc: 0.7514\n",
            "Epoch 51/150\n",
            "221/221 [==============================] - 3s 14ms/step - loss: 0.4900 - acc: 0.7531\n",
            "Epoch 52/150\n",
            "221/221 [==============================] - 5s 24ms/step - loss: 0.4884 - acc: 0.7578\n",
            "Epoch 53/150\n",
            "221/221 [==============================] - 5s 22ms/step - loss: 0.4837 - acc: 0.7612\n",
            "Epoch 54/150\n",
            "221/221 [==============================] - 4s 16ms/step - loss: 0.4873 - acc: 0.7564\n",
            "Epoch 55/150\n",
            "221/221 [==============================] - 5s 21ms/step - loss: 0.4916 - acc: 0.7561\n",
            "Epoch 56/150\n",
            "221/221 [==============================] - 4s 18ms/step - loss: 0.4791 - acc: 0.7648\n",
            "Epoch 57/150\n",
            "221/221 [==============================] - 3s 14ms/step - loss: 0.4811 - acc: 0.7583\n",
            "Epoch 58/150\n",
            "221/221 [==============================] - 3s 13ms/step - loss: 0.4841 - acc: 0.7590\n",
            "Epoch 59/150\n",
            "221/221 [==============================] - 4s 19ms/step - loss: 0.4801 - acc: 0.7631\n",
            "Epoch 60/150\n",
            "221/221 [==============================] - 4s 16ms/step - loss: 0.4762 - acc: 0.7635\n",
            "Epoch 61/150\n",
            "221/221 [==============================] - 5s 21ms/step - loss: 0.4746 - acc: 0.7645\n",
            "Epoch 62/150\n",
            "221/221 [==============================] - 5s 21ms/step - loss: 0.4715 - acc: 0.7660\n",
            "Epoch 63/150\n",
            "221/221 [==============================] - 6s 27ms/step - loss: 0.4774 - acc: 0.7636\n",
            "Epoch 64/150\n",
            "221/221 [==============================] - 3s 14ms/step - loss: 0.4698 - acc: 0.7669\n",
            "Epoch 65/150\n",
            "221/221 [==============================] - 3s 13ms/step - loss: 0.4660 - acc: 0.7691\n",
            "Epoch 66/150\n",
            "221/221 [==============================] - 3s 12ms/step - loss: 0.4809 - acc: 0.7596\n",
            "Epoch 67/150\n",
            "221/221 [==============================] - 3s 15ms/step - loss: 0.4695 - acc: 0.7640\n",
            "Epoch 68/150\n",
            "221/221 [==============================] - 4s 18ms/step - loss: 0.4732 - acc: 0.7651\n",
            "Epoch 69/150\n",
            "221/221 [==============================] - 3s 14ms/step - loss: 0.4691 - acc: 0.7678\n",
            "Epoch 70/150\n",
            "221/221 [==============================] - 3s 13ms/step - loss: 0.4678 - acc: 0.7701\n",
            "Epoch 71/150\n",
            "221/221 [==============================] - 3s 14ms/step - loss: 0.4560 - acc: 0.7743\n",
            "Epoch 72/150\n",
            "221/221 [==============================] - 5s 22ms/step - loss: 0.4639 - acc: 0.7721\n",
            "Epoch 73/150\n",
            "221/221 [==============================] - 4s 16ms/step - loss: 0.4620 - acc: 0.7713\n",
            "Epoch 74/150\n",
            "221/221 [==============================] - 4s 18ms/step - loss: 0.4595 - acc: 0.7706\n",
            "Epoch 75/150\n",
            "221/221 [==============================] - 5s 21ms/step - loss: 0.4629 - acc: 0.7707\n",
            "Epoch 76/150\n",
            "221/221 [==============================] - 6s 28ms/step - loss: 0.4563 - acc: 0.7725\n",
            "Epoch 77/150\n",
            "221/221 [==============================] - 6s 26ms/step - loss: 0.4700 - acc: 0.7662\n",
            "Epoch 78/150\n",
            "221/221 [==============================] - 5s 21ms/step - loss: 0.4601 - acc: 0.7727\n",
            "Epoch 79/150\n",
            "221/221 [==============================] - 5s 24ms/step - loss: 0.4627 - acc: 0.7702\n",
            "Epoch 80/150\n",
            "221/221 [==============================] - 3s 14ms/step - loss: 0.4516 - acc: 0.7769\n",
            "Epoch 81/150\n",
            "221/221 [==============================] - 3s 12ms/step - loss: 0.4526 - acc: 0.7743\n",
            "Epoch 82/150\n",
            "221/221 [==============================] - 3s 14ms/step - loss: 0.4551 - acc: 0.7723\n",
            "Epoch 83/150\n",
            "221/221 [==============================] - 4s 18ms/step - loss: 0.4494 - acc: 0.7789\n",
            "Epoch 84/150\n",
            "221/221 [==============================] - 4s 17ms/step - loss: 0.4461 - acc: 0.7805\n",
            "Epoch 85/150\n",
            "221/221 [==============================] - 3s 13ms/step - loss: 0.4459 - acc: 0.7766\n",
            "Epoch 86/150\n",
            "221/221 [==============================] - 3s 12ms/step - loss: 0.4893 - acc: 0.7510\n",
            "Epoch 87/150\n",
            "221/221 [==============================] - 3s 14ms/step - loss: 0.4767 - acc: 0.7598\n",
            "Epoch 88/150\n",
            "221/221 [==============================] - 4s 20ms/step - loss: 0.4556 - acc: 0.7709\n",
            "Epoch 89/150\n",
            "221/221 [==============================] - 3s 13ms/step - loss: 0.4536 - acc: 0.7766\n",
            "Epoch 90/150\n",
            "221/221 [==============================] - 3s 13ms/step - loss: 0.4585 - acc: 0.7705\n",
            "Epoch 91/150\n",
            "221/221 [==============================] - 3s 13ms/step - loss: 0.4573 - acc: 0.7734\n",
            "Epoch 92/150\n",
            "221/221 [==============================] - 3s 16ms/step - loss: 0.4452 - acc: 0.7813\n",
            "Epoch 93/150\n",
            "221/221 [==============================] - 3s 16ms/step - loss: 0.4427 - acc: 0.7813\n",
            "Epoch 94/150\n",
            "221/221 [==============================] - 3s 12ms/step - loss: 0.4401 - acc: 0.7840\n",
            "Epoch 95/150\n",
            "221/221 [==============================] - 3s 12ms/step - loss: 0.4506 - acc: 0.7770\n",
            "Epoch 96/150\n",
            "221/221 [==============================] - 3s 14ms/step - loss: 0.4434 - acc: 0.7818\n",
            "Epoch 97/150\n",
            "221/221 [==============================] - 3s 15ms/step - loss: 0.4426 - acc: 0.7831\n",
            "Epoch 98/150\n",
            "221/221 [==============================] - 4s 17ms/step - loss: 0.4346 - acc: 0.7876\n",
            "Epoch 99/150\n",
            "221/221 [==============================] - 3s 11ms/step - loss: 0.4378 - acc: 0.7845\n",
            "Epoch 100/150\n",
            "221/221 [==============================] - 3s 12ms/step - loss: 0.4495 - acc: 0.7782\n",
            "Epoch 101/150\n",
            "221/221 [==============================] - 2s 11ms/step - loss: 0.4358 - acc: 0.7859\n",
            "Epoch 102/150\n",
            "221/221 [==============================] - 3s 13ms/step - loss: 0.4502 - acc: 0.7789\n",
            "Epoch 103/150\n",
            "221/221 [==============================] - 4s 18ms/step - loss: 0.4571 - acc: 0.7776\n",
            "Epoch 104/150\n",
            "221/221 [==============================] - 3s 13ms/step - loss: 0.4361 - acc: 0.7854\n",
            "Epoch 105/150\n",
            "221/221 [==============================] - 2s 11ms/step - loss: 0.5054 - acc: 0.7593\n",
            "Epoch 106/150\n",
            "221/221 [==============================] - 3s 12ms/step - loss: 0.4893 - acc: 0.7666\n",
            "Epoch 107/150\n",
            "221/221 [==============================] - 4s 19ms/step - loss: 0.4844 - acc: 0.7669\n",
            "Epoch 108/150\n",
            "221/221 [==============================] - 6s 25ms/step - loss: 0.4481 - acc: 0.7808\n",
            "Epoch 109/150\n",
            "221/221 [==============================] - 5s 23ms/step - loss: 0.4354 - acc: 0.7871\n",
            "Epoch 110/150\n",
            "221/221 [==============================] - 4s 17ms/step - loss: 0.4399 - acc: 0.7820\n",
            "Epoch 111/150\n",
            "221/221 [==============================] - 8s 35ms/step - loss: 0.4387 - acc: 0.7823\n",
            "Epoch 112/150\n",
            "221/221 [==============================] - 4s 19ms/step - loss: 0.4256 - acc: 0.7904\n",
            "Epoch 113/150\n",
            "221/221 [==============================] - 4s 18ms/step - loss: 0.4258 - acc: 0.7918\n",
            "Epoch 114/150\n",
            "221/221 [==============================] - 5s 25ms/step - loss: 0.4235 - acc: 0.7926\n",
            "Epoch 115/150\n",
            "221/221 [==============================] - 5s 21ms/step - loss: 0.4239 - acc: 0.7940\n",
            "Epoch 116/150\n",
            "221/221 [==============================] - 4s 19ms/step - loss: 0.4237 - acc: 0.7918\n",
            "Epoch 117/150\n",
            "221/221 [==============================] - 4s 17ms/step - loss: 0.4259 - acc: 0.7927\n",
            "Epoch 118/150\n",
            "221/221 [==============================] - 4s 20ms/step - loss: 0.4253 - acc: 0.7912\n",
            "Epoch 119/150\n",
            "221/221 [==============================] - 3s 14ms/step - loss: 0.4351 - acc: 0.7841\n",
            "Epoch 120/150\n",
            "221/221 [==============================] - 2s 11ms/step - loss: 0.4292 - acc: 0.7893\n",
            "Epoch 121/150\n",
            "221/221 [==============================] - 3s 12ms/step - loss: 0.4361 - acc: 0.7837\n",
            "Epoch 122/150\n",
            "221/221 [==============================] - 3s 15ms/step - loss: 0.4194 - acc: 0.7935\n",
            "Epoch 123/150\n",
            "221/221 [==============================] - 3s 15ms/step - loss: 0.4131 - acc: 0.7977\n",
            "Epoch 124/150\n",
            "221/221 [==============================] - 3s 12ms/step - loss: 0.4262 - acc: 0.7898\n",
            "Epoch 125/150\n",
            "221/221 [==============================] - 3s 12ms/step - loss: 0.4182 - acc: 0.7943\n",
            "Epoch 126/150\n",
            "221/221 [==============================] - 2s 11ms/step - loss: 0.4217 - acc: 0.7971\n",
            "Epoch 127/150\n",
            "221/221 [==============================] - 4s 16ms/step - loss: 0.4145 - acc: 0.7968\n",
            "Epoch 128/150\n",
            "221/221 [==============================] - 4s 17ms/step - loss: 0.4097 - acc: 0.7980\n",
            "Epoch 129/150\n",
            "221/221 [==============================] - 3s 12ms/step - loss: 0.4145 - acc: 0.7971\n",
            "Epoch 130/150\n",
            "221/221 [==============================] - 3s 12ms/step - loss: 0.4205 - acc: 0.7937\n",
            "Epoch 131/150\n",
            "221/221 [==============================] - 3s 13ms/step - loss: 0.4145 - acc: 0.7959\n",
            "Epoch 132/150\n",
            "221/221 [==============================] - 4s 16ms/step - loss: 0.4196 - acc: 0.7957\n",
            "Epoch 133/150\n",
            "221/221 [==============================] - 4s 17ms/step - loss: 0.4561 - acc: 0.7829\n",
            "Epoch 134/150\n",
            "221/221 [==============================] - 3s 12ms/step - loss: 0.4072 - acc: 0.7991\n",
            "Epoch 135/150\n",
            "221/221 [==============================] - 2s 11ms/step - loss: 0.4100 - acc: 0.7996\n",
            "Epoch 136/150\n",
            "221/221 [==============================] - 3s 12ms/step - loss: 0.4136 - acc: 0.7975\n",
            "Epoch 137/150\n",
            "221/221 [==============================] - 3s 13ms/step - loss: 0.4189 - acc: 0.7928\n",
            "Epoch 138/150\n",
            "221/221 [==============================] - 4s 17ms/step - loss: 0.4246 - acc: 0.7899\n",
            "Epoch 139/150\n",
            "221/221 [==============================] - 3s 14ms/step - loss: 0.4011 - acc: 0.8051\n",
            "Epoch 140/150\n",
            "221/221 [==============================] - 3s 12ms/step - loss: 0.4054 - acc: 0.8006\n",
            "Epoch 141/150\n",
            "221/221 [==============================] - 2s 11ms/step - loss: 0.3985 - acc: 0.8059\n",
            "Epoch 142/150\n",
            "221/221 [==============================] - 3s 14ms/step - loss: 0.4162 - acc: 0.7965\n",
            "Epoch 143/150\n",
            "221/221 [==============================] - 5s 24ms/step - loss: 0.4179 - acc: 0.7945\n",
            "Epoch 144/150\n",
            "221/221 [==============================] - 3s 12ms/step - loss: 0.4025 - acc: 0.8032\n",
            "Epoch 145/150\n",
            "221/221 [==============================] - 3s 13ms/step - loss: 0.4004 - acc: 0.8028\n",
            "Epoch 146/150\n",
            "221/221 [==============================] - 3s 14ms/step - loss: 0.4041 - acc: 0.8011\n",
            "Epoch 147/150\n",
            "221/221 [==============================] - 3s 15ms/step - loss: 0.4041 - acc: 0.8039\n",
            "Epoch 148/150\n",
            "221/221 [==============================] - 4s 19ms/step - loss: 0.4051 - acc: 0.8026\n",
            "Epoch 149/150\n",
            "221/221 [==============================] - 3s 12ms/step - loss: 0.4286 - acc: 0.7849\n",
            "Epoch 150/150\n",
            "221/221 [==============================] - 3s 13ms/step - loss: 0.4145 - acc: 0.7934\n"
          ]
        },
        {
          "output_type": "execute_result",
          "data": {
            "text/plain": [
              "<keras.callbacks.History at 0x7a9cc451e0e0>"
            ]
          },
          "metadata": {},
          "execution_count": 35
        }
      ],
      "source": [
        "# Write Python Code here:\n",
        "ann1.fit(X_train,y_train,batch_size=100,epochs=150)"
      ]
    },
    {
      "cell_type": "markdown",
      "metadata": {
        "id": "LRI0CyvLH4sV"
      },
      "source": [
        "### <font color='brown'> Question 4: Calculate accuracy, confusion matrix and all the metrics included in classification_report function  </font>"
      ]
    },
    {
      "cell_type": "code",
      "execution_count": 42,
      "metadata": {
        "id": "eGpOFePbH4sV",
        "colab": {
          "base_uri": "https://localhost:8080/",
          "height": 698
        },
        "outputId": "242c12b1-9295-46e6-9bfe-cad2608f9c33"
      },
      "outputs": [
        {
          "output_type": "stream",
          "name": "stdout",
          "text": [
            "173/173 [==============================] - 1s 4ms/step\n",
            "              precision    recall  f1-score   support\n",
            "\n",
            "           0       0.70      0.68      0.69      2756\n",
            "           1       0.69      0.71      0.70      2756\n",
            "\n",
            "    accuracy                           0.70      5512\n",
            "   macro avg       0.70      0.70      0.70      5512\n",
            "weighted avg       0.70      0.70      0.70      5512\n",
            "\n",
            "173/173 [==============================] - 1s 5ms/step - loss: 0.6728 - acc: 0.6958\n",
            "Our accuracy is ()%\n"
          ]
        },
        {
          "output_type": "execute_result",
          "data": {
            "text/plain": [
              "[Text(0, 0.5, 'Uninfected'), Text(0, 1.5, 'Infected')]"
            ]
          },
          "metadata": {},
          "execution_count": 42
        },
        {
          "output_type": "display_data",
          "data": {
            "text/plain": [
              "<Figure size 640x480 with 2 Axes>"
            ],
            "image/png": "[encoded data removed]"
          },
          "metadata": {}
        }
      ],
      "source": [
        "# Write Python Code here:\n",
        "\n",
        "y_pred = ann1.predict(X_test)\n",
        "y_pred = (y_pred > 0.5)\n",
        "\n",
        "from sklearn.metrics import classification_report\n",
        "\n",
        "print(classification_report(y_test,y_pred))\n",
        "print(\"Our accuracy is ()%\".format(ann1.evaluate(X_test,y_test)))\n",
        "\n",
        "# Making the confusion matrix\n",
        "from sklearn.metrics import confusion_matrix\n",
        "import seaborn as sns\n",
        "import matplotlib.pyplot as plt\n",
        "\n",
        "# Confusion matrix\n",
        "cm = confusion_matrix(y_test,y_pred)\n",
        "\n",
        "# Visualising the confusion matrix\n",
        "ax=plt.subplot()\n",
        "sns.heatmap(cm,annot=True,fmt='.0f',ax=ax,cmap=\"viridis\")\n",
        "ax.set_xlabel('Predicted labels');ax.set_ylabel('True labels');\n",
        "ax.set_title('Confusion Matrix');\n",
        "ax.xaxis.set_ticklabels(['Uninfected','Infected']);ax.yaxis.set_ticklabels(['Uninfected','Infected'])\n",
        "\n"
      ]
    },
    {
      "cell_type": "markdown",
      "metadata": {
        "id": "KqeTQrFUH4sW"
      },
      "source": [
        "### <font color='brown'> Question 5: Write your conclusions about the performance and potential use of this classifier. </font>"
      ]
    },
    {
      "cell_type": "markdown",
      "metadata": {
        "id": "fe0VQMC1H4sW"
      },
      "source": [
        "The model performs better than a random guess, but does still not have very high accuracy. It misclassifies a lot of records."
      ]
    },
    {
      "cell_type": "markdown",
      "metadata": {
        "id": "WpGxOdQ2WLN7"
      },
      "source": [
        "© 2022 Copyright The University of New South Wales - CRICOS 00098G"
      ]
    }
  ],
  "metadata": {
    "colab": {
      "name": "Chapter06-Exercise01.ipynb",
      "provenance": [],
      "include_colab_link": true
    },
    "interpreter": {
      "hash": "aee8b7b246df8f9039afb4144a1f6fd8d2ca17a180786b69acc140d282b71a49"
    },
    "kernelspec": {
      "display_name": "Python 3.7.4 64-bit",
      "language": "python",
      "name": "python3"
    },
    "language_info": {
      "codemirror_mode": {
        "name": "ipython",
        "version": 3
      },
      "file_extension": ".py",
      "mimetype": "text/x-python",
      "name": "python",
      "nbconvert_exporter": "python",
      "pygments_lexer": "ipython3",
      "version": "3.7.4"
    }
  },
  "nbformat": 4,
  "nbformat_minor": 0
}